{
 "cells": [
  {
   "cell_type": "code",
   "execution_count": 14,
   "metadata": {},
   "outputs": [],
   "source": [
    "import sys \n",
    "import os \n",
    "import sqlite3"
   ]
  },
  {
   "cell_type": "code",
   "execution_count": 15,
   "metadata": {},
   "outputs": [],
   "source": [
    "import re\n",
    "import datetime\n",
    "import hashlib"
   ]
  },
  {
   "cell_type": "code",
   "execution_count": 16,
   "metadata": {},
   "outputs": [],
   "source": [
    "import matplotlib.pyplot as plt\n",
    "from matplotlib import cm"
   ]
  },
  {
   "cell_type": "code",
   "execution_count": 17,
   "metadata": {},
   "outputs": [],
   "source": [
    "from sklearn.feature_extraction.text import CountVectorizer, TfidfVectorizer\n",
    "from sklearn.cluster import KMeans\n",
    "from sklearn.pipeline import Pipeline"
   ]
  },
  {
   "cell_type": "code",
   "execution_count": 18,
   "metadata": {},
   "outputs": [],
   "source": [
    "import numpy as np"
   ]
  },
  {
   "cell_type": "code",
   "execution_count": 19,
   "metadata": {},
   "outputs": [],
   "source": [
    "def text_cleaner(text):\n",
    "    text = text.lower() # приведение в lowercase,\n",
    "    \n",
    "    text = re.sub( r'https?://[\\S]+', ' url ', text) # замена интернет ссылок\n",
    "    text = re.sub( r'[\\w\\./]+\\.[a-z]+', ' url ', text) \n",
    " \n",
    "    text = re.sub( r'\\d+[-/\\.]\\d+[-/\\.]\\d+', ' date ', text) # замена даты и времени\n",
    "    text = re.sub( r'\\d+ ?гг?', ' date ', text) \n",
    "    text = re.sub( r'\\d+:\\d+(:\\d+)?', ' time ', text) \n",
    "\n",
    "    # text = re.sub( r'@\\w+', ' tname ', text ) # замена имён twiter\n",
    "    # text = re.sub( r'#\\w+', ' htag ', text ) # замена хештегов\n",
    "\n",
    "\n",
    "    \n",
    "    stw = ['в', 'по', 'на', 'из', 'и', 'или', 'не', 'но', 'за', 'над', 'под', 'то',\n",
    "           'a', 'at', 'on', 'of', 'and', 'or', 'in', 'for', 'at' ]\n",
    "    text = re.sub( r'<[^>]*>', ' ', text) # удаление html тагов\n",
    "    text = re.sub( r'[\\W]+', ' ', text ) # удаление лишних символов\n",
    "\n",
    "    return  text"
   ]
  },
  {
   "cell_type": "code",
   "execution_count": 20,
   "metadata": {},
   "outputs": [],
   "source": [
    "def load_data():\n",
    "    dbname = 'data/export_file utf-8.sqlite'\n",
    "    data = { 'IE_DETAIL_TEXT':[],'IE_NAME':[], 'tag':[] }\n",
    "    conn = sqlite3.connect(dbname)\n",
    "    try:\n",
    "        c = conn.cursor()\n",
    "        for row in c.execute('SELECT * FROM data'):\n",
    "            data['IE_DETAIL_TEXT'] += [row[1]]\n",
    "            data['IE_NAME'] += [row[2]]\n",
    "            data['tag'] += [row[2]]\n",
    "    finally:\n",
    "        conn.close()\n",
    "    return data"
   ]
  },
  {
   "cell_type": "code",
   "execution_count": 31,
   "metadata": {},
   "outputs": [],
   "source": [
    "def save2db(data):\n",
    "    load_data()\n",
    "    dbname = 'result/export file utf-8 with clasters.sqlite'\n",
    "    conn = sqlite3.connect(dbname)\n",
    "    try:\n",
    "        c = conn.cursor()\n",
    "        c.execute(\"CREATE TABLE data(IE_XML_ID TEXT PRIMARY KEY, IE_DETAIL_TEXT TEXT, IE_NAME TEXT, tag TEXT)\")\n",
    "        data1 ={'tag':[]}\n",
    "        for n in range(0,len(data['IE_NAME'])):\n",
    "            t = str(data['IE_DETAIL_TEXT'][n]) + str(data['IE_NAME'][n]) + str(data['tag'][n]) + str(datetime.datetime.now())\n",
    "            rec_hash = hashlib.sha256(t.encode('utf-8')).hexdigest()\n",
    "            c.execute(\"INSERT INTO data VALUES (?, ?, ?, ?)\",  (rec_hash, str(data['IE_DETAIL_TEXT'][n]),str(data['IE_NAME'][n]),str(data['tag'][n])  ) ) \n",
    "        conn.commit()\n",
    "    \n",
    "    finally:\n",
    "        conn.close()"
   ]
  },
  {
   "cell_type": "code",
   "execution_count": 32,
   "metadata": {},
   "outputs": [],
   "source": [
    "def main():\n",
    "    print(\"[i] загружаем данные...\")\n",
    "    data = load_data()\n",
    "    print(\"\\tсчитано: \",len(data['IE_NAME']))\n",
    "    \n",
    "\n",
    "    print(\"[i] очистка данных...\")\n",
    "    D = [ text_cleaner(t) for t in data['IE_NAME'] ]\n",
    "\n",
    "    n_clusters=6\n",
    "    print(\"[i] обучение кластеризатора...\")\n",
    " \n",
    "    text_clstz = Pipeline([\n",
    "                    ('tfidf', TfidfVectorizer()),\n",
    "                    ( 'km', KMeans(n_clusters=n_clusters)),\n",
    "                    #( 'km', KMeans(n_clusters=n_clusters, init='k-means+', n_init=10, max_iter=300, tol=1e-04, random_state=0) )\n",
    "                            ])\n",
    "    text_clstz.fit(D)\n",
    "    data['tag'] = text_clstz.predict(D)\n",
    "    print(\"\\tколичество кластеров:\",len(set(data['tag'])))\n",
    "    print('\\t-----------------')\n",
    "    print(\"[i] сохраняем результат...\")\n",
    "    \n",
    "    save2db(data)"
   ]
  },
  {
   "cell_type": "code",
   "execution_count": 33,
   "metadata": {
    "scrolled": true
   },
   "outputs": [
    {
     "name": "stdout",
     "output_type": "stream",
     "text": [
      "[i] загружаем данные...\n",
      "\tсчитано:  2000\n",
      "[i] очистка данных...\n",
      "[i] обучение кластеризатора...\n",
      "\tколичество кластеров: 6\n",
      "\t-----------------\n",
      "[i] сохраняем результат...\n"
     ]
    },
    {
     "ename": "SystemExit",
     "evalue": "",
     "output_type": "error",
     "traceback": [
      "An exception has occurred, use %tb to see the full traceback.\n",
      "\u001b[1;31mSystemExit\u001b[0m\n"
     ]
    },
    {
     "name": "stderr",
     "output_type": "stream",
     "text": [
      "D:\\Anaconda\\lib\\site-packages\\IPython\\core\\interactiveshell.py:2971: UserWarning: To exit: use 'exit', 'quit', or Ctrl-D.\n",
      "  warn(\"To exit: use 'exit', 'quit', or Ctrl-D.\", stacklevel=1)\n"
     ]
    }
   ],
   "source": [
    "if __name__ == '__main__':\n",
    "    sys.exit( main() )"
   ]
  },
  {
   "cell_type": "code",
   "execution_count": null,
   "metadata": {
    "collapsed": true
   },
   "outputs": [],
   "source": []
  }
 ],
 "metadata": {
  "kernelspec": {
   "display_name": "Python 3",
   "language": "python",
   "name": "python3"
  },
  "language_info": {
   "codemirror_mode": {
    "name": "ipython",
    "version": 3
   },
   "file_extension": ".py",
   "mimetype": "text/x-python",
   "name": "python",
   "nbconvert_exporter": "python",
   "pygments_lexer": "ipython3",
   "version": "3.6.5"
  }
 },
 "nbformat": 4,
 "nbformat_minor": 2
}
